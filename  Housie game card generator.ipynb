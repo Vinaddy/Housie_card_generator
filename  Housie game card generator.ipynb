{
 "cells": [
  {
   "cell_type": "markdown",
   "metadata": {},
   "source": [
    "### Housie game card generator"
   ]
  },
  {
   "cell_type": "code",
   "execution_count": 2,
   "metadata": {
    "scrolled": true
   },
   "outputs": [
    {
     "name": "stdout",
     "output_type": "stream",
     "text": [
      "\n",
      "ross\n",
      "\n",
      "[82, 42, 84, 5, 4]\n",
      "[24, 46, 34, 83, 7]\n",
      "[49, 21, 40, 81, 2]\n",
      "[67, 28, 89, 60, 63]\n",
      "[8, 55, 33, 64, 86]\n",
      "\n",
      "monica\n",
      "\n",
      "[23, 59, 20, 84, 85]\n",
      "[78, 37, 72, 42, 6]\n",
      "[36, 17, 81, 10, 82]\n",
      "[8, 71, 13, 14, 50]\n",
      "[55, 19, 52, 66, 35]\n",
      "\n",
      "chandler\n",
      "\n",
      "[35, 22, 39, 78, 7]\n",
      "[76, 32, 75, 8, 63]\n",
      "[1, 81, 83, 64, 28]\n",
      "[26, 15, 61, 38, 9]\n",
      "[5, 50, 14, 71, 82]\n",
      "\n",
      "rachel\n",
      "\n",
      "[61, 27, 69, 40, 3]\n",
      "[72, 22, 36, 7, 75]\n",
      "[4, 11, 37, 16, 62]\n",
      "[28, 65, 13, 84, 5]\n",
      "[52, 2, 48, 73, 42]\n",
      "\n",
      "joey\n",
      "\n",
      "[60, 81, 64, 30, 32]\n",
      "[54, 82, 34, 68, 20]\n",
      "[87, 21, 79, 49, 41]\n",
      "[42, 26, 53, 22, 35]\n",
      "[74, 86, 29, 57, 12]\n"
     ]
    }
   ],
   "source": [
    "from random import sample\n",
    "players = ['ross','monica','chandler','rachel','joey']\n",
    "for player in players: \n",
    "    print('\\n'+ player+'\\n')\n",
    "    current_player = sample(range(1,90), 25)\n",
    "    for i in range(5): \n",
    "        print(current_player[i*5:(i+1)*5])\n"
   ]
  },
  {
   "cell_type": "code",
   "execution_count": null,
   "metadata": {},
   "outputs": [],
   "source": []
  }
 ],
 "metadata": {
  "kernelspec": {
   "display_name": "Python 3",
   "language": "python",
   "name": "python3"
  },
  "language_info": {
   "codemirror_mode": {
    "name": "ipython",
    "version": 3
   },
   "file_extension": ".py",
   "mimetype": "text/x-python",
   "name": "python",
   "nbconvert_exporter": "python",
   "pygments_lexer": "ipython3",
   "version": "3.7.0"
  }
 },
 "nbformat": 4,
 "nbformat_minor": 4
}
